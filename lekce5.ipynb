{
 "cells": [
  {
   "cell_type": "code",
   "execution_count": 2,
   "metadata": {},
   "outputs": [],
   "source": [
    "import statistics\n",
    "import matplotlib.pyplot as plt"
   ]
  },
  {
   "cell_type": "code",
   "execution_count": 3,
   "metadata": {},
   "outputs": [
    {
     "data": {
      "text/plain": [
       "<BarContainer object of 8 artists>"
      ]
     },
     "execution_count": 3,
     "metadata": {},
     "output_type": "execute_result"
    },
    {
     "data": {
      "image/png": "[encoded data removed]",
      "text/plain": [
       "<Figure size 432x288 with 1 Axes>"
      ]
     },
     "metadata": {
      "needs_background": "light"
     },
     "output_type": "display_data"
    }
   ],
   "source": [
    "first_seven_days = [5.1, 5, 4.8, 4.7,63.7, 3.4, 7.2, 0.5]\n",
    "x = range (1, len(first_seven_days) + 1)\n",
    "plt.bar(x, first_seven_days)"
   ]
  },
  {
   "cell_type": "code",
   "execution_count": 4,
   "metadata": {},
   "outputs": [
    {
     "data": {
      "text/plain": [
       "11.8"
      ]
     },
     "execution_count": 4,
     "metadata": {},
     "output_type": "execute_result"
    }
   ],
   "source": [
    "statistics.mean(first_seven_days)"
   ]
  },
  {
   "cell_type": "code",
   "execution_count": 5,
   "metadata": {},
   "outputs": [
    {
     "data": {
      "text/plain": [
       "4.9"
      ]
     },
     "execution_count": 5,
     "metadata": {},
     "output_type": "execute_result"
    }
   ],
   "source": [
    "statistics.median(first_seven_days)"
   ]
  },
  {
   "cell_type": "code",
   "execution_count": 6,
   "metadata": {},
   "outputs": [],
   "source": [
    "second_seven_days = [\n",
    "  8.3,\n",
    "  16.5,\n",
    "  10.8,\n",
    "  7.5,\n",
    "  6.2,\n",
    "  6.4,\n",
    "  1.6,\n",
    "  1.7,\n",
    "  1.9,\n",
    "  1.9,\n",
    "  4,\n",
    "  1.8,\n",
    "  2.4,\n",
    "  2,\n",
    "  15.1,\n",
    "  11.2,\n",
    "  11.8,\n",
    "  21.9,\n",
    "  3.9\n",
    "]"
   ]
  },
  {
   "cell_type": "code",
   "execution_count": 7,
   "metadata": {},
   "outputs": [
    {
     "data": {
      "text/plain": [
       "19.696319453136418"
      ]
     },
     "execution_count": 7,
     "metadata": {},
     "output_type": "execute_result"
    }
   ],
   "source": [
    "statistics.pstdev(first_seven_days)"
   ]
  },
  {
   "cell_type": "code",
   "execution_count": 8,
   "metadata": {},
   "outputs": [
    {
     "data": {
      "text/plain": [
       "5.786597371623002"
      ]
     },
     "execution_count": 8,
     "metadata": {},
     "output_type": "execute_result"
    }
   ],
   "source": [
    "statistics.pstdev(second_seven_days)"
   ]
  },
  {
   "cell_type": "code",
   "execution_count": 9,
   "metadata": {},
   "outputs": [
    {
     "data": {
      "text/plain": [
       "<BarContainer object of 19 artists>"
      ]
     },
     "execution_count": 9,
     "metadata": {},
     "output_type": "execute_result"
    },
    {
     "data": {
      "image/png": "[encoded data removed]",
      "text/plain": [
       "<Figure size 432x288 with 1 Axes>"
      ]
     },
     "metadata": {
      "needs_background": "light"
     },
     "output_type": "display_data"
    }
   ],
   "source": [
    "x = range(1, len(second_seven_days) + 1)\n",
    "plt.bar(x,second_seven_days)"
   ]
  },
  {
   "cell_type": "code",
   "execution_count": 12,
   "metadata": {},
   "outputs": [
    {
     "data": {
      "text/plain": [
       "63.7"
      ]
     },
     "execution_count": 12,
     "metadata": {},
     "output_type": "execute_result"
    }
   ],
   "source": [
    "max(first_seven_days)\n"
   ]
  },
  {
   "cell_type": "code",
   "execution_count": 11,
   "metadata": {},
   "outputs": [
    {
     "data": {
      "text/plain": [
       "0.5"
      ]
     },
     "execution_count": 11,
     "metadata": {},
     "output_type": "execute_result"
    }
   ],
   "source": [
    "min(first_seven_days)"
   ]
  },
  {
   "cell_type": "code",
   "execution_count": 13,
   "metadata": {},
   "outputs": [
    {
     "data": {
      "text/plain": [
       "387.9450000000001"
      ]
     },
     "execution_count": 13,
     "metadata": {},
     "output_type": "execute_result"
    }
   ],
   "source": [
    "#populační rozptyl\n",
    "statistics.pvariance(first_seven_days)"
   ]
  },
  {
   "cell_type": "code",
   "execution_count": 14,
   "metadata": {},
   "outputs": [
    {
     "data": {
      "text/plain": [
       "15"
      ]
     },
     "execution_count": 14,
     "metadata": {},
     "output_type": "execute_result"
    }
   ],
   "source": [
    "student_research_age = [\n",
    "  18,\n",
    "  17,\n",
    "  15,\n",
    "  15,\n",
    "  16,\n",
    "  16,\n",
    "  16,\n",
    "  17,\n",
    "  15,\n",
    "  15,\n",
    "  15,\n",
    "  15,\n",
    "  15,\n",
    "  15,\n",
    "  15,\n",
    "  16,\n",
    "  16,\n",
    "  16,\n",
    "  17,\n",
    "  16\n",
    "]\n",
    "\n",
    "#modus - nejčastěji vyskytující se hodnota\n",
    "statistics.mode(student_research_age)"
   ]
  },
  {
   "cell_type": "code",
   "execution_count": 15,
   "metadata": {},
   "outputs": [],
   "source": [
    "student_research_age_gender = [\n",
    "  (\"F\", 18),\n",
    "  (\"F\", 17),\n",
    "  (\"F\", 15),\n",
    "  (\"F\", 15),\n",
    "  (\"F\", 16),\n",
    "  (\"M\", 16),\n",
    "  (\"M\", 16),\n",
    "  (\"F\", 17),\n",
    "  (\"M\", 15),\n",
    "  (\"M\", 15),\n",
    "  (\"F\", 15),\n",
    "  (\"F\", 15),\n",
    "  (\"M\", 15),\n",
    "  (\"M\", 15),\n",
    "  (\"M\", 15),\n",
    "  (\"F\", 16),\n",
    "  (\"F\", 16),\n",
    "  (\"F\", 16),\n",
    "  (\"M\", 17),\n",
    "  (\"M\", 16),\n",
    "  (\"M\", 15),\n",
    "]\n"
   ]
  },
  {
   "cell_type": "code",
   "execution_count": 16,
   "metadata": {},
   "outputs": [
    {
     "data": {
      "text/plain": [
       "('M', 15)"
      ]
     },
     "execution_count": 16,
     "metadata": {},
     "output_type": "execute_result"
    }
   ],
   "source": [
    "statistics.mode(student_research_age_gender)"
   ]
  },
  {
   "cell_type": "markdown",
   "metadata": {},
   "source": [
    "tupple (ntice) se nedá modifikovat, píše se v závorkách\n",
    "ntice = (8, 21, 34)\n",
    "ale lze pro něj spočítat hash\n",
    "ntice.__hash__() - unikátní otisk, ale vždy pro stejnou ntici, stejný hash\n",
    "převod na seznam: seznam = list(ntice)"
   ]
  },
  {
   "cell_type": "code",
   "execution_count": 17,
   "metadata": {},
   "outputs": [
    {
     "data": {
      "text/plain": [
       "1.0240678535720154"
      ]
     },
     "execution_count": 17,
     "metadata": {},
     "output_type": "execute_result"
    }
   ],
   "source": [
    "gdp_growth_rate = [\n",
    "  2.435,\n",
    "  1.76,\n",
    "  -0.785,\n",
    "  -0.046,\n",
    "  2.262,\n",
    "  5.388,\n",
    "  2.537,\n",
    "  5.169,\n",
    "  3.199,\n",
    "  2.314\n",
    "]\n",
    "\n",
    "#geometrický průměr\n",
    "gdp_growth = []\n",
    "for value in gdp_growth_rate:\n",
    "  gdp_growth.append(1 + value/100)\n",
    "statistics.geometric_mean(gdp_growth)"
   ]
  },
  {
   "cell_type": "code",
   "execution_count": 18,
   "metadata": {},
   "outputs": [],
   "source": [
    "import yfinance as yf\n",
    "import pandas as pd\n"
   ]
  },
  {
   "cell_type": "code",
   "execution_count": 19,
   "metadata": {},
   "outputs": [
    {
     "data": {
      "text/html": [
       "<div>\n",
       "<style scoped>\n",
       "    .dataframe tbody tr th:only-of-type {\n",
       "        vertical-align: middle;\n",
       "    }\n",
       "\n",
       "    .dataframe tbody tr th {\n",
       "        vertical-align: top;\n",
       "    }\n",
       "\n",
       "    .dataframe thead th {\n",
       "        text-align: right;\n",
       "    }\n",
       "</style>\n",
       "<table border=\"1\" class=\"dataframe\">\n",
       "  <thead>\n",
       "    <tr style=\"text-align: right;\">\n",
       "      <th></th>\n",
       "      <th>Open</th>\n",
       "      <th>High</th>\n",
       "      <th>Low</th>\n",
       "      <th>Close</th>\n",
       "      <th>Volume</th>\n",
       "      <th>Dividends</th>\n",
       "      <th>Stock Splits</th>\n",
       "    </tr>\n",
       "  </thead>\n",
       "  <tbody>\n",
       "    <tr>\n",
       "      <th>count</th>\n",
       "      <td>252.000000</td>\n",
       "      <td>252.000000</td>\n",
       "      <td>252.000000</td>\n",
       "      <td>252.000000</td>\n",
       "      <td>2.520000e+02</td>\n",
       "      <td>252.000000</td>\n",
       "      <td>252.0</td>\n",
       "    </tr>\n",
       "    <tr>\n",
       "      <th>mean</th>\n",
       "      <td>250.924652</td>\n",
       "      <td>253.103063</td>\n",
       "      <td>248.883598</td>\n",
       "      <td>251.134204</td>\n",
       "      <td>2.641201e+07</td>\n",
       "      <td>0.008889</td>\n",
       "      <td>0.0</td>\n",
       "    </tr>\n",
       "    <tr>\n",
       "      <th>std</th>\n",
       "      <td>30.692187</td>\n",
       "      <td>30.602257</td>\n",
       "      <td>30.731061</td>\n",
       "      <td>30.819679</td>\n",
       "      <td>8.364078e+06</td>\n",
       "      <td>0.070130</td>\n",
       "      <td>0.0</td>\n",
       "    </tr>\n",
       "    <tr>\n",
       "      <th>min</th>\n",
       "      <td>201.649677</td>\n",
       "      <td>202.432487</td>\n",
       "      <td>197.804951</td>\n",
       "      <td>200.490295</td>\n",
       "      <td>1.055060e+07</td>\n",
       "      <td>0.000000</td>\n",
       "      <td>0.0</td>\n",
       "    </tr>\n",
       "    <tr>\n",
       "      <th>25%</th>\n",
       "      <td>223.634752</td>\n",
       "      <td>225.485147</td>\n",
       "      <td>221.421721</td>\n",
       "      <td>223.344143</td>\n",
       "      <td>2.099520e+07</td>\n",
       "      <td>0.000000</td>\n",
       "      <td>0.0</td>\n",
       "    </tr>\n",
       "    <tr>\n",
       "      <th>50%</th>\n",
       "      <td>246.667111</td>\n",
       "      <td>248.621638</td>\n",
       "      <td>244.590897</td>\n",
       "      <td>246.781631</td>\n",
       "      <td>2.479235e+07</td>\n",
       "      <td>0.000000</td>\n",
       "      <td>0.0</td>\n",
       "    </tr>\n",
       "    <tr>\n",
       "      <th>75%</th>\n",
       "      <td>281.600915</td>\n",
       "      <td>283.227800</td>\n",
       "      <td>279.474954</td>\n",
       "      <td>281.126732</td>\n",
       "      <td>3.037372e+07</td>\n",
       "      <td>0.000000</td>\n",
       "      <td>0.0</td>\n",
       "    </tr>\n",
       "    <tr>\n",
       "      <th>max</th>\n",
       "      <td>305.019989</td>\n",
       "      <td>306.359985</td>\n",
       "      <td>302.690002</td>\n",
       "      <td>305.950012</td>\n",
       "      <td>6.987060e+07</td>\n",
       "      <td>0.560000</td>\n",
       "      <td>0.0</td>\n",
       "    </tr>\n",
       "  </tbody>\n",
       "</table>\n",
       "</div>"
      ],
      "text/plain": [
       "             Open        High         Low       Close        Volume  \\\n",
       "count  252.000000  252.000000  252.000000  252.000000  2.520000e+02   \n",
       "mean   250.924652  253.103063  248.883598  251.134204  2.641201e+07   \n",
       "std     30.692187   30.602257   30.731061   30.819679  8.364078e+06   \n",
       "min    201.649677  202.432487  197.804951  200.490295  1.055060e+07   \n",
       "25%    223.634752  225.485147  221.421721  223.344143  2.099520e+07   \n",
       "50%    246.667111  248.621638  244.590897  246.781631  2.479235e+07   \n",
       "75%    281.600915  283.227800  279.474954  281.126732  3.037372e+07   \n",
       "max    305.019989  306.359985  302.690002  305.950012  6.987060e+07   \n",
       "\n",
       "        Dividends  Stock Splits  \n",
       "count  252.000000         252.0  \n",
       "mean     0.008889           0.0  \n",
       "std      0.070130           0.0  \n",
       "min      0.000000           0.0  \n",
       "25%      0.000000           0.0  \n",
       "50%      0.000000           0.0  \n",
       "75%      0.000000           0.0  \n",
       "max      0.560000           0.0  "
      ]
     },
     "execution_count": 19,
     "metadata": {},
     "output_type": "execute_result"
    }
   ],
   "source": [
    "#import cen akcií - kód firmy, data za poslední rok\n",
    "msft = yf.Ticker(\"MSFT\")\n",
    "msft_df = msft.history(period=\"1y\")\n",
    "msft_df.describe()"
   ]
  },
  {
   "cell_type": "code",
   "execution_count": 20,
   "metadata": {},
   "outputs": [
    {
     "data": {
      "text/html": [
       "<div>\n",
       "<style scoped>\n",
       "    .dataframe tbody tr th:only-of-type {\n",
       "        vertical-align: middle;\n",
       "    }\n",
       "\n",
       "    .dataframe tbody tr th {\n",
       "        vertical-align: top;\n",
       "    }\n",
       "\n",
       "    .dataframe thead th {\n",
       "        text-align: right;\n",
       "    }\n",
       "</style>\n",
       "<table border=\"1\" class=\"dataframe\">\n",
       "  <thead>\n",
       "    <tr style=\"text-align: right;\">\n",
       "      <th></th>\n",
       "      <th>Open</th>\n",
       "      <th>High</th>\n",
       "      <th>Low</th>\n",
       "      <th>Close</th>\n",
       "      <th>Volume</th>\n",
       "      <th>Dividends</th>\n",
       "      <th>Stock Splits</th>\n",
       "    </tr>\n",
       "  </thead>\n",
       "  <tbody>\n",
       "    <tr>\n",
       "      <th>count</th>\n",
       "      <td>252.000000</td>\n",
       "      <td>252.000000</td>\n",
       "      <td>252.000000</td>\n",
       "      <td>252.000000</td>\n",
       "      <td>2.520000e+02</td>\n",
       "      <td>252.000000</td>\n",
       "      <td>252.0</td>\n",
       "    </tr>\n",
       "    <tr>\n",
       "      <th>mean</th>\n",
       "      <td>250.924652</td>\n",
       "      <td>253.103063</td>\n",
       "      <td>248.883598</td>\n",
       "      <td>251.134204</td>\n",
       "      <td>2.641201e+07</td>\n",
       "      <td>0.008889</td>\n",
       "      <td>0.0</td>\n",
       "    </tr>\n",
       "    <tr>\n",
       "      <th>std</th>\n",
       "      <td>30.692187</td>\n",
       "      <td>30.602257</td>\n",
       "      <td>30.731061</td>\n",
       "      <td>30.819679</td>\n",
       "      <td>8.364078e+06</td>\n",
       "      <td>0.070130</td>\n",
       "      <td>0.0</td>\n",
       "    </tr>\n",
       "    <tr>\n",
       "      <th>min</th>\n",
       "      <td>201.649677</td>\n",
       "      <td>202.432487</td>\n",
       "      <td>197.804951</td>\n",
       "      <td>200.490295</td>\n",
       "      <td>1.055060e+07</td>\n",
       "      <td>0.000000</td>\n",
       "      <td>0.0</td>\n",
       "    </tr>\n",
       "    <tr>\n",
       "      <th>25%</th>\n",
       "      <td>223.634752</td>\n",
       "      <td>225.485147</td>\n",
       "      <td>221.421721</td>\n",
       "      <td>223.344143</td>\n",
       "      <td>2.099520e+07</td>\n",
       "      <td>0.000000</td>\n",
       "      <td>0.0</td>\n",
       "    </tr>\n",
       "    <tr>\n",
       "      <th>50%</th>\n",
       "      <td>246.667111</td>\n",
       "      <td>248.621638</td>\n",
       "      <td>244.590897</td>\n",
       "      <td>246.781631</td>\n",
       "      <td>2.479235e+07</td>\n",
       "      <td>0.000000</td>\n",
       "      <td>0.0</td>\n",
       "    </tr>\n",
       "    <tr>\n",
       "      <th>75%</th>\n",
       "      <td>281.600915</td>\n",
       "      <td>283.227800</td>\n",
       "      <td>279.474954</td>\n",
       "      <td>281.126732</td>\n",
       "      <td>3.037372e+07</td>\n",
       "      <td>0.000000</td>\n",
       "      <td>0.0</td>\n",
       "    </tr>\n",
       "    <tr>\n",
       "      <th>max</th>\n",
       "      <td>305.019989</td>\n",
       "      <td>306.359985</td>\n",
       "      <td>302.690002</td>\n",
       "      <td>305.950012</td>\n",
       "      <td>6.987060e+07</td>\n",
       "      <td>0.560000</td>\n",
       "      <td>0.0</td>\n",
       "    </tr>\n",
       "  </tbody>\n",
       "</table>\n",
       "</div>"
      ],
      "text/plain": [
       "             Open        High         Low       Close        Volume  \\\n",
       "count  252.000000  252.000000  252.000000  252.000000  2.520000e+02   \n",
       "mean   250.924652  253.103063  248.883598  251.134204  2.641201e+07   \n",
       "std     30.692187   30.602257   30.731061   30.819679  8.364078e+06   \n",
       "min    201.649677  202.432487  197.804951  200.490295  1.055060e+07   \n",
       "25%    223.634752  225.485147  221.421721  223.344143  2.099520e+07   \n",
       "50%    246.667111  248.621638  244.590897  246.781631  2.479235e+07   \n",
       "75%    281.600915  283.227800  279.474954  281.126732  3.037372e+07   \n",
       "max    305.019989  306.359985  302.690002  305.950012  6.987060e+07   \n",
       "\n",
       "        Dividends  Stock Splits  \n",
       "count  252.000000         252.0  \n",
       "mean     0.008889           0.0  \n",
       "std      0.070130           0.0  \n",
       "min      0.000000           0.0  \n",
       "25%      0.000000           0.0  \n",
       "50%      0.000000           0.0  \n",
       "75%      0.000000           0.0  \n",
       "max      0.560000           0.0  "
      ]
     },
     "execution_count": 20,
     "metadata": {},
     "output_type": "execute_result"
    }
   ],
   "source": [
    "aapl = yf.Ticker(\"AAPL\")\n",
    "aapl_df = aapl.history(period=\"1y\")\n",
    "msft_df.describe()"
   ]
  },
  {
   "cell_type": "code",
   "execution_count": null,
   "metadata": {},
   "outputs": [],
   "source": [
    "#korelace - jak jsou provázané ceny akcií appla a microsoft"
   ]
  },
  {
   "cell_type": "code",
   "execution_count": 21,
   "metadata": {},
   "outputs": [
    {
     "data": {
      "text/html": [
       "<div>\n",
       "<style scoped>\n",
       "    .dataframe tbody tr th:only-of-type {\n",
       "        vertical-align: middle;\n",
       "    }\n",
       "\n",
       "    .dataframe tbody tr th {\n",
       "        vertical-align: top;\n",
       "    }\n",
       "\n",
       "    .dataframe thead th {\n",
       "        text-align: right;\n",
       "    }\n",
       "</style>\n",
       "<table border=\"1\" class=\"dataframe\">\n",
       "  <thead>\n",
       "    <tr style=\"text-align: right;\">\n",
       "      <th></th>\n",
       "      <th>MSFT</th>\n",
       "      <th>AAPL</th>\n",
       "    </tr>\n",
       "    <tr>\n",
       "      <th>Date</th>\n",
       "      <th></th>\n",
       "      <th></th>\n",
       "    </tr>\n",
       "  </thead>\n",
       "  <tbody>\n",
       "    <tr>\n",
       "      <th>2020-10-19</th>\n",
       "      <td>212.272186</td>\n",
       "      <td>115.238808</td>\n",
       "    </tr>\n",
       "    <tr>\n",
       "      <th>2020-10-20</th>\n",
       "      <td>212.698273</td>\n",
       "      <td>116.759033</td>\n",
       "    </tr>\n",
       "    <tr>\n",
       "      <th>2020-10-21</th>\n",
       "      <td>212.846924</td>\n",
       "      <td>116.123123</td>\n",
       "    </tr>\n",
       "    <tr>\n",
       "      <th>2020-10-22</th>\n",
       "      <td>212.936096</td>\n",
       "      <td>115.010277</td>\n",
       "    </tr>\n",
       "    <tr>\n",
       "      <th>2020-10-23</th>\n",
       "      <td>214.263916</td>\n",
       "      <td>114.304810</td>\n",
       "    </tr>\n",
       "    <tr>\n",
       "      <th>...</th>\n",
       "      <td>...</td>\n",
       "      <td>...</td>\n",
       "    </tr>\n",
       "    <tr>\n",
       "      <th>2021-10-12</th>\n",
       "      <td>292.880005</td>\n",
       "      <td>141.509995</td>\n",
       "    </tr>\n",
       "    <tr>\n",
       "      <th>2021-10-13</th>\n",
       "      <td>296.309998</td>\n",
       "      <td>140.910004</td>\n",
       "    </tr>\n",
       "    <tr>\n",
       "      <th>2021-10-14</th>\n",
       "      <td>302.750000</td>\n",
       "      <td>143.759995</td>\n",
       "    </tr>\n",
       "    <tr>\n",
       "      <th>2021-10-15</th>\n",
       "      <td>304.209991</td>\n",
       "      <td>144.839996</td>\n",
       "    </tr>\n",
       "    <tr>\n",
       "      <th>2021-10-18</th>\n",
       "      <td>305.950012</td>\n",
       "      <td>145.125000</td>\n",
       "    </tr>\n",
       "  </tbody>\n",
       "</table>\n",
       "<p>252 rows × 2 columns</p>\n",
       "</div>"
      ],
      "text/plain": [
       "                  MSFT        AAPL\n",
       "Date                              \n",
       "2020-10-19  212.272186  115.238808\n",
       "2020-10-20  212.698273  116.759033\n",
       "2020-10-21  212.846924  116.123123\n",
       "2020-10-22  212.936096  115.010277\n",
       "2020-10-23  214.263916  114.304810\n",
       "...                ...         ...\n",
       "2021-10-12  292.880005  141.509995\n",
       "2021-10-13  296.309998  140.910004\n",
       "2021-10-14  302.750000  143.759995\n",
       "2021-10-15  304.209991  144.839996\n",
       "2021-10-18  305.950012  145.125000\n",
       "\n",
       "[252 rows x 2 columns]"
      ]
     },
     "execution_count": 21,
     "metadata": {},
     "output_type": "execute_result"
    }
   ],
   "source": [
    "msft_close = msft_df[\"Close\"]\n",
    "aapl_close = aapl_df[\"Close\"]\n",
    "stock_data_df = pd.merge(msft_close, aapl_close, on =[\"Date\"], suffixes=[\"MSFT\", \"AAPL\"])\n",
    "stock_data_df = stock_data_df.rename(columns={\"CloseMSFT\": \"MSFT\", \"CloseAAPL\": \"AAPL\"})\n",
    "stock_data_df\n"
   ]
  },
  {
   "cell_type": "code",
   "execution_count": 22,
   "metadata": {},
   "outputs": [
    {
     "data": {
      "text/html": [
       "<div>\n",
       "<style scoped>\n",
       "    .dataframe tbody tr th:only-of-type {\n",
       "        vertical-align: middle;\n",
       "    }\n",
       "\n",
       "    .dataframe tbody tr th {\n",
       "        vertical-align: top;\n",
       "    }\n",
       "\n",
       "    .dataframe thead th {\n",
       "        text-align: right;\n",
       "    }\n",
       "</style>\n",
       "<table border=\"1\" class=\"dataframe\">\n",
       "  <thead>\n",
       "    <tr style=\"text-align: right;\">\n",
       "      <th></th>\n",
       "      <th>MSFT</th>\n",
       "      <th>AAPL</th>\n",
       "    </tr>\n",
       "    <tr>\n",
       "      <th>Date</th>\n",
       "      <th></th>\n",
       "      <th></th>\n",
       "    </tr>\n",
       "  </thead>\n",
       "  <tbody>\n",
       "    <tr>\n",
       "      <th>2020-10-19</th>\n",
       "      <td>NaN</td>\n",
       "      <td>NaN</td>\n",
       "    </tr>\n",
       "    <tr>\n",
       "      <th>2020-10-20</th>\n",
       "      <td>0.002007</td>\n",
       "      <td>0.013192</td>\n",
       "    </tr>\n",
       "    <tr>\n",
       "      <th>2020-10-21</th>\n",
       "      <td>0.000699</td>\n",
       "      <td>-0.005446</td>\n",
       "    </tr>\n",
       "    <tr>\n",
       "      <th>2020-10-22</th>\n",
       "      <td>0.000419</td>\n",
       "      <td>-0.009583</td>\n",
       "    </tr>\n",
       "    <tr>\n",
       "      <th>2020-10-23</th>\n",
       "      <td>0.006236</td>\n",
       "      <td>-0.006134</td>\n",
       "    </tr>\n",
       "    <tr>\n",
       "      <th>...</th>\n",
       "      <td>...</td>\n",
       "      <td>...</td>\n",
       "    </tr>\n",
       "    <tr>\n",
       "      <th>2021-10-12</th>\n",
       "      <td>-0.004588</td>\n",
       "      <td>-0.009103</td>\n",
       "    </tr>\n",
       "    <tr>\n",
       "      <th>2021-10-13</th>\n",
       "      <td>0.011711</td>\n",
       "      <td>-0.004240</td>\n",
       "    </tr>\n",
       "    <tr>\n",
       "      <th>2021-10-14</th>\n",
       "      <td>0.021734</td>\n",
       "      <td>0.020226</td>\n",
       "    </tr>\n",
       "    <tr>\n",
       "      <th>2021-10-15</th>\n",
       "      <td>0.004822</td>\n",
       "      <td>0.007513</td>\n",
       "    </tr>\n",
       "    <tr>\n",
       "      <th>2021-10-18</th>\n",
       "      <td>0.005720</td>\n",
       "      <td>0.001968</td>\n",
       "    </tr>\n",
       "  </tbody>\n",
       "</table>\n",
       "<p>252 rows × 2 columns</p>\n",
       "</div>"
      ],
      "text/plain": [
       "                MSFT      AAPL\n",
       "Date                          \n",
       "2020-10-19       NaN       NaN\n",
       "2020-10-20  0.002007  0.013192\n",
       "2020-10-21  0.000699 -0.005446\n",
       "2020-10-22  0.000419 -0.009583\n",
       "2020-10-23  0.006236 -0.006134\n",
       "...              ...       ...\n",
       "2021-10-12 -0.004588 -0.009103\n",
       "2021-10-13  0.011711 -0.004240\n",
       "2021-10-14  0.021734  0.020226\n",
       "2021-10-15  0.004822  0.007513\n",
       "2021-10-18  0.005720  0.001968\n",
       "\n",
       "[252 rows x 2 columns]"
      ]
     },
     "execution_count": 22,
     "metadata": {},
     "output_type": "execute_result"
    }
   ],
   "source": [
    "stock_data_change_df = stock_data_df.pct_change()\n",
    "stock_data_change_df"
   ]
  },
  {
   "cell_type": "code",
   "execution_count": 25,
   "metadata": {},
   "outputs": [
    {
     "name": "stderr",
     "output_type": "stream",
     "text": [
      "C:\\Users\\Hanka\\AppData\\Local\\Programs\\Python\\Python38-32\\lib\\site-packages\\seaborn\\_decorators.py:36: FutureWarning: Pass the following variables as keyword args: x, y, data. From version 0.12, the only valid positional argument will be `data`, and passing other arguments without an explicit keyword will result in an error or misinterpretation.\n",
      "  warnings.warn(\n"
     ]
    },
    {
     "data": {
      "text/plain": [
       "<seaborn.axisgrid.JointGrid at 0xda63970>"
      ]
     },
     "execution_count": 25,
     "metadata": {},
     "output_type": "execute_result"
    },
    {
     "data": {
      "image/png": "[encoded data removed]",
      "text/plain": [
       "<Figure size 432x432 with 3 Axes>"
      ]
     },
     "metadata": {
      "needs_background": "light"
     },
     "output_type": "display_data"
    }
   ],
   "source": [
    "import seaborn as sns\n",
    "sns.jointplot(\"MSFT\", \"AAPL\", stock_data_change_df, kind=\"scatter\")"
   ]
  },
  {
   "cell_type": "code",
   "execution_count": 26,
   "metadata": {},
   "outputs": [],
   "source": [
    "tsn = yf.Ticker(\"TSN\")\n",
    "tsn_df = tsn.history(period=\"1y\")\n",
    "tsn_df = tsn_df.rename(columns={\"Close\": \"TSN\"})\n"
   ]
  },
  {
   "cell_type": "code",
   "execution_count": 27,
   "metadata": {},
   "outputs": [
    {
     "name": "stderr",
     "output_type": "stream",
     "text": [
      "C:\\Users\\Hanka\\AppData\\Local\\Programs\\Python\\Python38-32\\lib\\site-packages\\seaborn\\_decorators.py:36: FutureWarning: Pass the following variables as keyword args: x, y, data. From version 0.12, the only valid positional argument will be `data`, and passing other arguments without an explicit keyword will result in an error or misinterpretation.\n",
      "  warnings.warn(\n"
     ]
    },
    {
     "data": {
      "text/plain": [
       "<seaborn.axisgrid.JointGrid at 0x13cb1e20>"
      ]
     },
     "execution_count": 27,
     "metadata": {},
     "output_type": "execute_result"
    },
    {
     "data": {
      "image/png": "[encoded data removed]",
      "text/plain": [
       "<Figure size 432x432 with 3 Axes>"
      ]
     },
     "metadata": {
      "needs_background": "light"
     },
     "output_type": "display_data"
    }
   ],
   "source": [
    "import yfinance as yf\n",
    "import pandas\n",
    "import matplotlib.pyplot as plt\n",
    "import seaborn\n",
    "\n",
    "msft = yf.Ticker(\"MSFT\")\n",
    "msft_df = msft.history(period=\"1y\")\n",
    "\n",
    "aapl = yf.Ticker(\"AAPL\")\n",
    "aapl_df = aapl.history(period=\"1y\")\n",
    "\n",
    "msft_close = msft_df[\"Close\"]\n",
    "aapl_close = aapl_df[\"Close\"]\n",
    "\n",
    "\n",
    "stock_data_df = pandas.merge(msft_close, aapl_close, on=[\"Date\"], suffixes=[\"MSFT\", \"AAPL\"])\n",
    "stock_data_df = stock_data_df.rename(columns={\"CloseMSFT\": \"MSFT\", \"CloseAAPL\": \"AAPL\"})\n",
    "stock_data_change_df = stock_data_df.pct_change()\n",
    "\n",
    "tsn = yf.Ticker(\"TSN\")\n",
    "tsn_df = tsn.history(period=\"1y\")\n",
    "tsn_df = tsn_df.rename(columns={\"Close\": \"TSN\"})\n",
    "tsn_close = tsn_df[\"TSN\"]\n",
    "stock_data_three_df = pandas.merge(stock_data_df, tsn_close, on=[\"Date\"])\n",
    "stock_data_three_df.head()\n",
    "seaborn.jointplot(\"AAPL\", \"TSN\", stock_data_three_df.pct_change(), kind='scatter', color='seagreen')"
   ]
  },
  {
   "cell_type": "code",
   "execution_count": 28,
   "metadata": {},
   "outputs": [
    {
     "data": {
      "text/html": [
       "<div>\n",
       "<style scoped>\n",
       "    .dataframe tbody tr th:only-of-type {\n",
       "        vertical-align: middle;\n",
       "    }\n",
       "\n",
       "    .dataframe tbody tr th {\n",
       "        vertical-align: top;\n",
       "    }\n",
       "\n",
       "    .dataframe thead th {\n",
       "        text-align: right;\n",
       "    }\n",
       "</style>\n",
       "<table border=\"1\" class=\"dataframe\">\n",
       "  <thead>\n",
       "    <tr style=\"text-align: right;\">\n",
       "      <th></th>\n",
       "      <th>MSFT</th>\n",
       "      <th>AAPL</th>\n",
       "      <th>TSN</th>\n",
       "    </tr>\n",
       "  </thead>\n",
       "  <tbody>\n",
       "    <tr>\n",
       "      <th>MSFT</th>\n",
       "      <td>1.000000</td>\n",
       "      <td>0.885239</td>\n",
       "      <td>0.726840</td>\n",
       "    </tr>\n",
       "    <tr>\n",
       "      <th>AAPL</th>\n",
       "      <td>0.885239</td>\n",
       "      <td>1.000000</td>\n",
       "      <td>0.511606</td>\n",
       "    </tr>\n",
       "    <tr>\n",
       "      <th>TSN</th>\n",
       "      <td>0.726840</td>\n",
       "      <td>0.511606</td>\n",
       "      <td>1.000000</td>\n",
       "    </tr>\n",
       "  </tbody>\n",
       "</table>\n",
       "</div>"
      ],
      "text/plain": [
       "          MSFT      AAPL       TSN\n",
       "MSFT  1.000000  0.885239  0.726840\n",
       "AAPL  0.885239  1.000000  0.511606\n",
       "TSN   0.726840  0.511606  1.000000"
      ]
     },
     "execution_count": 28,
     "metadata": {},
     "output_type": "execute_result"
    }
   ],
   "source": [
    "#korelační matice -1 (nepřímá závislost), 0 (nezávislé), 1 (závislost)\n",
    "stock_data_three_df.corr()"
   ]
  },
  {
   "cell_type": "code",
   "execution_count": 31,
   "metadata": {},
   "outputs": [
    {
     "name": "stdout",
     "output_type": "stream",
     "text": [
      "♣ 1\n",
      "♣ 2\n",
      "♣ 3\n",
      "♣ 4\n",
      "♣ 5\n",
      "♣ 6\n",
      "♣ 7\n",
      "♣ 8\n",
      "♣ 9\n",
      "♣ 10\n",
      "♣ J\n",
      "♣ Q\n",
      "♣ K\n",
      "♣ A\n",
      "♦ 1\n",
      "♦ 2\n",
      "♦ 3\n",
      "♦ 4\n",
      "♦ 5\n",
      "♦ 6\n",
      "♦ 7\n",
      "♦ 8\n",
      "♦ 9\n",
      "♦ 10\n",
      "♦ J\n",
      "♦ Q\n",
      "♦ K\n",
      "♦ A\n",
      "♥ 1\n",
      "♥ 2\n",
      "♥ 3\n",
      "♥ 4\n",
      "♥ 5\n",
      "♥ 6\n",
      "♥ 7\n",
      "♥ 8\n",
      "♥ 9\n",
      "♥ 10\n",
      "♥ J\n",
      "♥ Q\n",
      "♥ K\n",
      "♥ A\n",
      "♠ 1\n",
      "♠ 2\n",
      "♠ 3\n",
      "♠ 4\n",
      "♠ 5\n",
      "♠ 6\n",
      "♠ 7\n",
      "♠ 8\n",
      "♠ 9\n",
      "♠ 10\n",
      "♠ J\n",
      "♠ Q\n",
      "♠ K\n",
      "♠ A\n"
     ]
    }
   ],
   "source": [
    "import itertools\n",
    "#kartézský součin\n",
    "\n",
    "#suits = (\"Club\", \"Diamond\", \"Heart\", \"Spade\")\n",
    "suits = (\"♣\", \"♦\", \"♥\", \"♠\")\n",
    "ranks = (1, 2, 3, 4, 5, 6, 7, 8, 9, 10, \"J\", \"Q\", \"K\", \"A\")\n",
    "\n",
    "list_of_cards = list(itertools.product(suits, ranks))\n",
    "\n",
    "for item in list_of_cards:\n",
    "  print(f\"{item[0]} {item[1]}\")"
   ]
  },
  {
   "cell_type": "code",
   "execution_count": null,
   "metadata": {},
   "outputs": [],
   "source": []
  }
 ],
 "metadata": {
  "interpreter": {
   "hash": "8439ce1f4b814a5da806d570652c7cc59cb2d87cd3a6a47694338b382ecdccb8"
  },
  "kernelspec": {
   "display_name": "Python 3.8.3 32-bit",
   "name": "python3"
  },
  "language_info": {
   "codemirror_mode": {
    "name": "ipython",
    "version": 3
   },
   "file_extension": ".py",
   "mimetype": "text/x-python",
   "name": "python",
   "nbconvert_exporter": "python",
   "pygments_lexer": "ipython3",
   "version": "3.8.3"
  },
  "orig_nbformat": 4
 },
 "nbformat": 4,
 "nbformat_minor": 2
}
